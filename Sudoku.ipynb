{
 "cells": [
  {
   "cell_type": "code",
   "execution_count": 1,
   "metadata": {},
   "outputs": [],
   "source": [
    "grid = [[5,3,0,0,7,0,0,0,0],\n",
    "        [6,0,0,1,9,5,0,0,0],\n",
    "        [0,9,8,0,0,0,0,6,0],\n",
    "        [8,0,0,0,6,0,0,0,3],\n",
    "        [4,0,0,8,0,3,0,0,1],\n",
    "        [7,0,0,0,2,0,0,0,6],\n",
    "        [0,6,0,0,0,0,2,8,0],\n",
    "        [0,0,0,4,1,9,0,0,5],\n",
    "        [0,0,0,0,8,0,0,7,9]]    #It is a list of list that makes the sudoku puzzle"
   ]
  },
  {
   "cell_type": "code",
   "execution_count": 2,
   "metadata": {},
   "outputs": [
    {
     "name": "stdout",
     "output_type": "stream",
     "text": [
      "[[5, 3, 0, 0, 7, 0, 0, 0, 0], [6, 0, 0, 1, 9, 5, 0, 0, 0], [0, 9, 8, 0, 0, 0, 0, 6, 0], [8, 0, 0, 0, 6, 0, 0, 0, 3], [4, 0, 0, 8, 0, 3, 0, 0, 1], [7, 0, 0, 0, 2, 0, 0, 0, 6], [0, 6, 0, 0, 0, 0, 2, 8, 0], [0, 0, 0, 4, 1, 9, 0, 0, 5], [0, 0, 0, 0, 8, 0, 0, 7, 9]]\n"
     ]
    }
   ],
   "source": [
    "print(grid)"
   ]
  },
  {
   "cell_type": "code",
   "execution_count": 3,
   "metadata": {},
   "outputs": [],
   "source": [
    "#since the grid is not redable"
   ]
  },
  {
   "cell_type": "code",
   "execution_count": 4,
   "metadata": {},
   "outputs": [
    {
     "name": "stdout",
     "output_type": "stream",
     "text": [
      "[[5 3 0 0 7 0 0 0 0]\n",
      " [6 0 0 1 9 5 0 0 0]\n",
      " [0 9 8 0 0 0 0 6 0]\n",
      " [8 0 0 0 6 0 0 0 3]\n",
      " [4 0 0 8 0 3 0 0 1]\n",
      " [7 0 0 0 2 0 0 0 6]\n",
      " [0 6 0 0 0 0 2 8 0]\n",
      " [0 0 0 4 1 9 0 0 5]\n",
      " [0 0 0 0 8 0 0 7 9]]\n"
     ]
    }
   ],
   "source": [
    "import numpy as np              #import numpy library\n",
    "print(np.matrix(grid))          #we can print the grid for better understanding the puzzle"
   ]
  },
  {
   "cell_type": "code",
   "execution_count": 5,
   "metadata": {},
   "outputs": [],
   "source": [
    "def possible(y,x,n):                           #This function determines that can we put a number n at any position (y,x)\n",
    "    global grid                               \n",
    "    for i in range(0,9):            #returns false if the number n is already present in the coloumn and it can't be placed\n",
    "        if grid[y] [i] == n:\n",
    "            return False\n",
    "    for i in range(0,9):             #returns false if the number n is already present in the row and it can't be placed\n",
    "        if grid[i][x]== n:\n",
    "            return False\n",
    "    xq = (x//3)* 3\n",
    "    yq = (y//3)* 3\n",
    "    for i in range(0,3):                    #this checks if the number is present in that 3x3 box\n",
    "        for j in range(0,3):\n",
    "            if grid[yq+i][xq + j] == n:\n",
    "                return False\n",
    "    return True                            #if all three above conditions is false then the function returns true , i.e.\n",
    "                                           #the function retuns true and number n can be placed at (y,x)"
   ]
  },
  {
   "cell_type": "code",
   "execution_count": 6,
   "metadata": {},
   "outputs": [
    {
     "data": {
      "text/plain": [
       "False"
      ]
     },
     "execution_count": 6,
     "metadata": {},
     "output_type": "execute_result"
    }
   ],
   "source": [
    "possible(4,4,4)"
   ]
  },
  {
   "cell_type": "code",
   "execution_count": 7,
   "metadata": {},
   "outputs": [
    {
     "data": {
      "text/plain": [
       "True"
      ]
     },
     "execution_count": 7,
     "metadata": {},
     "output_type": "execute_result"
    }
   ],
   "source": [
    "possible(4,4,5)"
   ]
  },
  {
   "cell_type": "code",
   "execution_count": 8,
   "metadata": {},
   "outputs": [],
   "source": [
    "def solve():\n",
    "    global grid\n",
    "    for y in range(9):\n",
    "        for x in range(9):\n",
    "            if grid[y][x] == 0:               #this loop finds the empty position in the puzzle that will be filled\n",
    "                for n in range (1,10):        #we need to check for every number at that empty position\n",
    "                    if possible(y,x,n):       #if it is possible to put n at (y,x)\n",
    "                        grid [y][x] = n       #place n at (y,x)\n",
    "                        solve()               #as now one position is filled we can do recursion with one less empty position\n",
    "                                              #now it is possible that we cannot further fill any position i.e. we have reached dead end\n",
    "                                              #so here we use the concept of backtracking\n",
    "                                              #Backtracking - removing the bad choices and solving again.\n",
    "                        grid[y][x] = 0\n",
    "                return                        #return the grid\n",
    "    print(np.matrix(grid))                    #print the solution grid\n"
   ]
  },
  {
   "cell_type": "code",
   "execution_count": 9,
   "metadata": {},
   "outputs": [
    {
     "name": "stdout",
     "output_type": "stream",
     "text": [
      "[[5 3 4 6 7 8 9 1 2]\n",
      " [6 7 2 1 9 5 3 4 8]\n",
      " [1 9 8 3 4 2 5 6 7]\n",
      " [8 5 9 7 6 1 4 2 3]\n",
      " [4 2 6 8 5 3 7 9 1]\n",
      " [7 1 3 9 2 4 8 5 6]\n",
      " [9 6 1 5 3 7 2 8 4]\n",
      " [2 8 7 4 1 9 6 3 5]\n",
      " [3 4 5 2 8 6 1 7 9]]\n"
     ]
    }
   ],
   "source": [
    "solve()"
   ]
  },
  {
   "cell_type": "code",
   "execution_count": null,
   "metadata": {},
   "outputs": [],
   "source": []
  }
 ],
 "metadata": {
  "kernelspec": {
   "display_name": "Python 3",
   "language": "python",
   "name": "python3"
  },
  "language_info": {
   "codemirror_mode": {
    "name": "ipython",
    "version": 3
   },
   "file_extension": ".py",
   "mimetype": "text/x-python",
   "name": "python",
   "nbconvert_exporter": "python",
   "pygments_lexer": "ipython3",
   "version": "3.7.6"
  }
 },
 "nbformat": 4,
 "nbformat_minor": 4
}
